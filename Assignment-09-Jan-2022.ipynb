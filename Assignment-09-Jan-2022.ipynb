{
 "cells": [
  {
   "cell_type": "code",
   "execution_count": 27,
   "id": "28ea1110",
   "metadata": {},
   "outputs": [],
   "source": [
    "#list the all the .txt file from a directory and merge them into a single txt file\n",
    "import os;\n",
    "def findAndMerge():\n",
    "    strOutPath = os.getcwd() + \"\\\\\" + \"Output.txt\"\n",
    "    fOutput = open(strOutPath, \"w\")\n",
    "    strBuffer = \"\"\n",
    "    for i in os.listdir(os.getcwd()):\n",
    "        if i.endswith(\".txt\"):\n",
    "            print(i)\n",
    "            f = open(i, \"r\")\n",
    "            strBuffer = f.read()\n",
    "            if(strBuffer != \"\"):\n",
    "                fOutput.write(strBuffer)\n",
    "                fOutput.write(\"\\n\")\n",
    "            f.close()\n",
    "    fOutput.close()"
   ]
  },
  {
   "cell_type": "code",
   "execution_count": 28,
   "id": "9df2794c",
   "metadata": {},
   "outputs": [
    {
     "name": "stdout",
     "output_type": "stream",
     "text": [
      "Output.txt\n",
      "Test1.txt\n",
      "Test2.txt\n"
     ]
    }
   ],
   "source": [
    "findAndMerge()"
   ]
  },
  {
   "cell_type": "code",
   "execution_count": 29,
   "id": "e9cd2c4f",
   "metadata": {},
   "outputs": [
    {
     "data": {
      "text/plain": [
       "'Hello World  in Test1\\nHello World  in Test1\\nHello World  in Test1\\nHello World  in Test1\\nHello World  in Test1\\nHello World  in Test2\\nHello World  in Test2\\nHello World  in Test2\\nHello World  in Test2\\nHello World  in Test2\\n'"
      ]
     },
     "execution_count": 29,
     "metadata": {},
     "output_type": "execute_result"
    }
   ],
   "source": [
    "f1 = open(\"output.txt\", \"r\")\n",
    "f1.read()"
   ]
  },
  {
   "cell_type": "code",
   "execution_count": null,
   "id": "252cc130",
   "metadata": {},
   "outputs": [],
   "source": []
  }
 ],
 "metadata": {
  "kernelspec": {
   "display_name": "Python 3 (ipykernel)",
   "language": "python",
   "name": "python3"
  },
  "language_info": {
   "codemirror_mode": {
    "name": "ipython",
    "version": 3
   },
   "file_extension": ".py",
   "mimetype": "text/x-python",
   "name": "python",
   "nbconvert_exporter": "python",
   "pygments_lexer": "ipython3",
   "version": "3.9.7"
  }
 },
 "nbformat": 4,
 "nbformat_minor": 5
}
