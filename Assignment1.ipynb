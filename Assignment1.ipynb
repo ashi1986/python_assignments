{
 "cells": [
  {
   "cell_type": "code",
   "execution_count": 1,
   "id": "578a4d00",
   "metadata": {},
   "outputs": [
    {
     "name": "stdout",
     "output_type": "stream",
     "text": [
      "Test123\n",
      "7\n"
     ]
    }
   ],
   "source": [
    "#1. you have to write a fun which will take string and return a len of \n",
    "#it without using a inbuilt fun len\n",
    "str = input()\n",
    "def strLen(str):\n",
    "    nLen = 0\n",
    "    for i in str:\n",
    "        nLen = nLen + 1\n",
    "    return nLen\n",
    "print(strLen(str))"
   ]
  },
  {
   "cell_type": "code",
   "execution_count": 2,
   "id": "36576e93",
   "metadata": {},
   "outputs": [
    {
     "name": "stdout",
     "output_type": "stream",
     "text": [
      "5\n",
      "Output is = 7\n"
     ]
    }
   ],
   "source": [
    "#4. write a fun which will take another function as an input and return me an output \n",
    "def add1(a):\n",
    "    return a+1;\n",
    "def add2(a):\n",
    "    return a+1;\n",
    "a = int(input())\n",
    "print(\"Output is =\",add2(add1(a)))"
   ]
  },
  {
   "cell_type": "code",
   "execution_count": 3,
   "id": "305e66b9",
   "metadata": {},
   "outputs": [
    {
     "name": "stdout",
     "output_type": "stream",
     "text": [
      "No of list to be input:2\n",
      "enter multiple values:1,2,3,4,5\n",
      "enter multiple values:6,7,89,10\n",
      "[['1,2,3,4,5'], ['6,7,89,10']]\n",
      "1,2,3,4,5,6,7,89,10,"
     ]
    }
   ],
   "source": [
    "#5. write a function which will take multiple list as a input and give me concatnation of all the element as \n",
    "#and output\n",
    "l = []\n",
    "l1 = []\n",
    "n = int(input(\"No of list to be input:\"))\n",
    "for i in range(0, n):\n",
    "    x = list(input(\"enter multiple values:\").split())\n",
    "    l.append(x)\n",
    "print(l)\n",
    "for j in l:\n",
    "    for k in j:\n",
    "        l1.append(k)\n",
    "        print(k, end = \"\")\n",
    "    print(\",\", end = \"\")\n",
    "#print(l1)"
   ]
  },
  {
   "cell_type": "code",
   "execution_count": null,
   "id": "02729343",
   "metadata": {},
   "outputs": [],
   "source": []
  }
 ],
 "metadata": {
  "kernelspec": {
   "display_name": "Python 3 (ipykernel)",
   "language": "python",
   "name": "python3"
  },
  "language_info": {
   "codemirror_mode": {
    "name": "ipython",
    "version": 3
   },
   "file_extension": ".py",
   "mimetype": "text/x-python",
   "name": "python",
   "nbconvert_exporter": "python",
   "pygments_lexer": "ipython3",
   "version": "3.9.7"
  }
 },
 "nbformat": 4,
 "nbformat_minor": 5
}
